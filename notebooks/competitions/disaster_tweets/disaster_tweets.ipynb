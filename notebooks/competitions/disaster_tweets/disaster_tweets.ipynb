{
 "cells": [
  {
   "cell_type": "code",
   "execution_count": 127,
   "id": "37befd20-91d1-4ebd-8a69-8cee7f5aa0d7",
   "metadata": {},
   "outputs": [],
   "source": [
    "import pandas as pd\n",
    "import torch\n",
    "import textwrap\n",
    "\n",
    "from itertools import islice\n",
    "from torch.utils.data import IterableDataset, Dataset, DataLoader, random_split\n",
    "from torch import nn\n",
    "from torchtext.data.functional import to_map_style_dataset\n",
    "from torchtext.data.utils import get_tokenizer\n",
    "from torchtext.vocab import build_vocab_from_iterator\n",
    "from tqdm.auto import tqdm\n",
    "\n",
    "import numpy as np\n",
    "import matplotlib.pyplot as plt"
   ]
  },
  {
   "cell_type": "markdown",
   "id": "6c12458c-f63b-44e8-9550-294c68a73c8d",
   "metadata": {},
   "source": [
    "# Familiarize with the data."
   ]
  },
  {
   "cell_type": "code",
   "execution_count": 128,
   "id": "8cec40c0-5996-4e04-abfa-9fd358a02b74",
   "metadata": {},
   "outputs": [
    {
     "name": "stdout",
     "output_type": "stream",
     "text": [
      "=== Dataset Overview ===\n",
      "Shape (rows, cols): (7613, 5)\n",
      "\n",
      "=== Columns and Data Types ===\n",
      "id           int64\n",
      "keyword     object\n",
      "location    object\n",
      "text        object\n",
      "target       int64 \n",
      "\n",
      "=== First 5 Examples ===\n"
     ]
    },
    {
     "data": {
      "text/html": [
       "<div>\n",
       "<style scoped>\n",
       "    .dataframe tbody tr th:only-of-type {\n",
       "        vertical-align: middle;\n",
       "    }\n",
       "\n",
       "    .dataframe tbody tr th {\n",
       "        vertical-align: top;\n",
       "    }\n",
       "\n",
       "    .dataframe thead th {\n",
       "        text-align: right;\n",
       "    }\n",
       "</style>\n",
       "<table border=\"1\" class=\"dataframe\">\n",
       "  <thead>\n",
       "    <tr style=\"text-align: right;\">\n",
       "      <th></th>\n",
       "      <th>id</th>\n",
       "      <th>keyword</th>\n",
       "      <th>location</th>\n",
       "      <th>text</th>\n",
       "      <th>target</th>\n",
       "    </tr>\n",
       "  </thead>\n",
       "  <tbody>\n",
       "    <tr>\n",
       "      <th>0</th>\n",
       "      <td>1</td>\n",
       "      <td>NaN</td>\n",
       "      <td>NaN</td>\n",
       "      <td>Our Deeds are the Reason of this #earthquake M...</td>\n",
       "      <td>1</td>\n",
       "    </tr>\n",
       "    <tr>\n",
       "      <th>1</th>\n",
       "      <td>4</td>\n",
       "      <td>NaN</td>\n",
       "      <td>NaN</td>\n",
       "      <td>Forest fire near La Ronge Sask. Canada</td>\n",
       "      <td>1</td>\n",
       "    </tr>\n",
       "    <tr>\n",
       "      <th>2</th>\n",
       "      <td>5</td>\n",
       "      <td>NaN</td>\n",
       "      <td>NaN</td>\n",
       "      <td>All residents asked to 'shelter in place' are ...</td>\n",
       "      <td>1</td>\n",
       "    </tr>\n",
       "    <tr>\n",
       "      <th>3</th>\n",
       "      <td>6</td>\n",
       "      <td>NaN</td>\n",
       "      <td>NaN</td>\n",
       "      <td>13,000 people receive #wildfires evacuation or...</td>\n",
       "      <td>1</td>\n",
       "    </tr>\n",
       "    <tr>\n",
       "      <th>4</th>\n",
       "      <td>7</td>\n",
       "      <td>NaN</td>\n",
       "      <td>NaN</td>\n",
       "      <td>Just got sent this photo from Ruby #Alaska as ...</td>\n",
       "      <td>1</td>\n",
       "    </tr>\n",
       "  </tbody>\n",
       "</table>\n",
       "</div>"
      ],
      "text/plain": [
       "   id keyword location                                               text  \\\n",
       "0   1     NaN      NaN  Our Deeds are the Reason of this #earthquake M...   \n",
       "1   4     NaN      NaN             Forest fire near La Ronge Sask. Canada   \n",
       "2   5     NaN      NaN  All residents asked to 'shelter in place' are ...   \n",
       "3   6     NaN      NaN  13,000 people receive #wildfires evacuation or...   \n",
       "4   7     NaN      NaN  Just got sent this photo from Ruby #Alaska as ...   \n",
       "\n",
       "   target  \n",
       "0       1  \n",
       "1       1  \n",
       "2       1  \n",
       "3       1  \n",
       "4       1  "
      ]
     },
     "metadata": {},
     "output_type": "display_data"
    },
    {
     "name": "stdout",
     "output_type": "stream",
     "text": [
      "\n",
      "=== Target Distribution (label balance) ===\n",
      "target\n",
      "0    4342\n",
      "1    3271 \n",
      "\n",
      "=== Missing Values per Column ===\n",
      "id             0\n",
      "keyword       61\n",
      "location    2533\n",
      "text           0\n",
      "target         0 \n",
      "\n",
      "=== Example Tweet (target=1, disaster) ===\n",
      "Our Deeds are the Reason of this #earthquake May ALLAH Forgive us all \n",
      "\n",
      "=== Example Tweet (target=0, not disaster) ===\n",
      "What's up man?\n"
     ]
    }
   ],
   "source": [
    "train_df = pd.read_csv(\"train.csv\")\n",
    "test_df = pd.read_csv(\"test.csv\")\n",
    "\n",
    "print(\"=== Dataset Overview ===\")\n",
    "print(f\"Shape (rows, cols): {train_df.shape}\\n\")\n",
    "\n",
    "print(\"=== Columns and Data Types ===\")\n",
    "print(train_df.dtypes.to_string(), \"\\n\")\n",
    "\n",
    "print(\"=== First 5 Examples ===\")\n",
    "display(train_df.head())   # in Jupyter/Colab, gives a nice table view\n",
    "\n",
    "print(\"\\n=== Target Distribution (label balance) ===\")\n",
    "print(train_df['target'].value_counts().to_string(), \"\\n\")\n",
    "\n",
    "print(\"=== Missing Values per Column ===\")\n",
    "print(train_df.isna().sum().to_string(), \"\\n\")\n",
    "\n",
    "print(\"=== Example Tweet (target=1, disaster) ===\")\n",
    "print(train_df[train_df['target']==1]['text'].iloc[0], \"\\n\")\n",
    "\n",
    "print(\"=== Example Tweet (target=0, not disaster) ===\")\n",
    "print(train_df[train_df['target']==0]['text'].iloc[0])"
   ]
  },
  {
   "cell_type": "markdown",
   "id": "4691d283-a74c-4f9b-a2af-b47e1ae56b87",
   "metadata": {},
   "source": [
    "# Preprocessing the data."
   ]
  },
  {
   "cell_type": "markdown",
   "id": "836b58b0-9a62-4987-83d4-2da688fae8af",
   "metadata": {},
   "source": [
    "First we split the data into: \n",
    "1. Training Data\n",
    "2. Validation Data\n",
    "3. Test Data"
   ]
  },
  {
   "cell_type": "code",
   "execution_count": 129,
   "id": "2958c91b-303a-4ce6-9087-29896f60286d",
   "metadata": {},
   "outputs": [],
   "source": [
    "# Handle missing values\n",
    "train_df[\"keyword\"] = train_df[\"keyword\"].fillna(\"<unk>\") \n",
    "test_df[\"keyword\"] = test_df[\"keyword\"].fillna(\"<unk>\")\n",
    "\n",
    "class TweetsIterable(IterableDataset):\n",
    "    \"\"\"\n",
    "    Yields (label:int, text:str), just like AG_NEWS.\n",
    "    \"\"\"\n",
    "    def __init__(self, dataframe: pd.DataFrame):\n",
    "        self.dataframe = dataframe\n",
    "\n",
    "    def __iter__(self):\n",
    "        for _, row in self.dataframe.iterrows():\n",
    "            yield (int(row[\"target\"]), str(row[\"text\"]), str(row[\"keyword\"]))\n",
    "\n",
    "class TweetsIterableTest(IterableDataset):\n",
    "    def __init__(self, df):\n",
    "        self.df = df\n",
    "    def __iter__(self):\n",
    "        for _, row in self.df.iterrows():\n",
    "            yield (int(row[\"id\"]), str(row[\"text\"]), str(row[\"keyword\"]))\n",
    "\n",
    "train_iter = TweetsIterable(train_df)\n",
    "train_dataset = to_map_style_dataset(train_iter)\n",
    "test_iter = TweetsIterableTest(test_df)\n",
    "test_dataset = to_map_style_dataset(test_iter)\n",
    "\n",
    "num_train = int(len(train_dataset) * 0.95)\n",
    "num_valid = len(train_dataset) - num_train\n",
    "\n",
    "split_train_, split_valid_ = random_split(train_dataset,[num_train, num_valid])"
   ]
  },
  {
   "cell_type": "markdown",
   "id": "1be3fc89-e57f-4413-b2a8-4fddc90fc050",
   "metadata": {},
   "source": [
    "### Build text- and keyword-vocab "
   ]
  },
  {
   "cell_type": "code",
   "execution_count": 130,
   "id": "2508d56e-0aca-4e95-8c24-6ec2764847fc",
   "metadata": {},
   "outputs": [
    {
     "name": "stdout",
     "output_type": "stream",
     "text": [
      "['fire', 'near', 'l', '.', 'a', '.']\n"
     ]
    }
   ],
   "source": [
    "# Loads built-in tokenizer from TorchText. \n",
    "tokenizer = get_tokenizer(\"basic_english\")\n",
    "print(tokenizer(\"Fire near L.A.\"))\n",
    "\n",
    "def yield_text_tokens(subset):\n",
    "    for i in range(len(subset)):\n",
    "        _, text, _ = subset[i]            # (label, text, keyword)\n",
    "        yield tokenizer(text)             # yields [\"Fire\",\"near\",\"LA\"] then [\"BBQ\",\"party\",\"tonight\"]\n",
    "\n",
    "def yield_keyword_tokens(subset):\n",
    "    for i in range(len(subset)):\n",
    "        _, _, kw = subset[i]              # (label, text, keyword)\n",
    "        yield [kw.strip().lower()]        # keywords are single tokens\n",
    "\n",
    "text_vocab = build_vocab_from_iterator(yield_text_tokens(split_train_), specials=[\"<unk>\"])\n",
    "text_vocab.set_default_index(text_vocab[\"<unk>\"])\n",
    "\n",
    "keyword_vocab = build_vocab_from_iterator(yield_keyword_tokens(split_train_), specials=[\"<unk>\"])\n",
    "keyword_vocab.set_default_index(keyword_vocab[\"<unk>\"])"
   ]
  },
  {
   "cell_type": "markdown",
   "id": "db2d569b-d4fe-44ac-a79e-35f14ea0f14b",
   "metadata": {},
   "source": [
    "### DataLoader\n",
    "\n",
    "The DataLoader batches the split datasets and returns: labels, texts, and keywords. So that we can inspect batches, print examples, and later swap in a tokenizer. \n",
    "\n",
    "The DataLoader calls the collate_batch function every time it gathers samples. The default implementation just tries to stack things into tensors. That fails for variable-length text. So we write a custom collate function to turn a list of samples into a single, well-formed batch that our model can cosume. \n",
    "\n",
    "**What is a tensor?**\n",
    "\n",
    "A tensor is a mathematical objects, representing a multidimensional array. E.g., a 0D tensor equals a scalar, a 1D tensor equals **2D tensor** equals a **matrix**. PyTorch optimized tensors for GPU/CPU operations. \n",
    "\n",
    "You can create a tensor with the function: `torch.tensor(data, type, device)`. \n",
    "- `data`: input data (e.g., python or numpy list, other tensor)\n",
    "- `dtype`: the data type of the tensor (e.g., torch.float32, torch.int64)\n",
    "- `device`: where to store and process it (default cpu)\n",
    "\n",
    "It is common to set the device in code as follows:\n",
    "\n",
    "`device = torch.device(\"cuda\" if torch.cuda.is_available() else \"cpu\")`; `torch.tensor([1,2,3],device)`\n",
    "\n",
    "**Why concatenate all text tesnors?**\n",
    "\n",
    "When batching text data, you have variable length sequences (e.g., \"Hello World!\" \"We study ML!\"). You can't store them into one rectangular tensor without padding. Instead we concatenate all sequences into one long vector and at the same time we keep track of where each sentence begins using a `offset`.\n",
    "\n",
    "`torch.cat` concatenates a sequens of tensors\n",
    "\n",
    "`a = torch.tensor([1, 2])`\n",
    "`b = torch.tensor([3, 4])`\n",
    "\n",
    "`c = torch.cat([a, b]) = tensor([1,2,3,4])`"
   ]
  },
  {
   "cell_type": "code",
   "execution_count": 131,
   "id": "0666cddd-80d1-412c-aa5a-53f19c0845ec",
   "metadata": {},
   "outputs": [],
   "source": [
    "device = torch.device(\"cuda\" if torch.cuda.is_available() else \"cpu\")\n",
    "\n",
    "def collate_batch(batch):\n",
    "    \"\"\"\n",
    "    For train/validation datasets (label, text, keyword)\n",
    "    Returns: labels, text_ids, offsets, keyword_ids\n",
    "    \"\"\"\n",
    "    labels, text_tensors, offsets, kw_ids = [], [], [0], []\n",
    "\n",
    "    # text_vocab, keyword_vocab must be built before \n",
    "    unk_text = text_vocab[\"<unk>\"]\n",
    "    unk_kw   = keyword_vocab[\"<unk>\"]\n",
    "    \n",
    "    for _label, _text, _kw in batch:\n",
    "        # Pre-process labels\n",
    "        labels.append(_label)\n",
    "        # Pre-process Texts (text → tokenize → ids → tensor)\n",
    "        tokens = tokenizer(_text)\n",
    "        ids = [text_vocab[t] for t in tokens]\n",
    "        tensor = torch.tensor(ids, dtype=torch.int64)\n",
    "        text_tensors.append(tensor)\n",
    "        offsets.append(tensor.size(0)) #push length of current seq\n",
    "        # Pre-process keywords  \n",
    "        kw_norm = _kw.strip().lower()\n",
    "        kw_ids.append(keyword_vocab[kw_norm])\n",
    "    labels = torch.tensor(labels,dtype=torch.int64)\n",
    "    # remove last length, turn lengths into starting indices via cumsum\n",
    "    offsets  = torch.tensor(offsets[:-1], dtype=torch.int64).cumsum(0)\n",
    "    text_ids = torch.cat(text_tensors)\n",
    "    kw_ids   = torch.tensor(kw_ids, dtype=torch.int64)\n",
    "\n",
    "    # .to(device) moves a tensor to a specific device (e.g., CPU, GPU) for computation\n",
    "    return labels.to(device), text_ids.to(device), offsets.to(device), kw_ids.to(device)\n",
    "\n",
    "# We need a serpatre collate_batch function for the test dataset, since there are no labels.\n",
    "def collate_batch_test(batch):\n",
    "    \"\"\"\n",
    "    For test data (id, text, keyword)\n",
    "    Returns:\n",
    "      ids:          LongTensor [B]            (kept on CPU for assembling CSV)\n",
    "      text_ids:     LongTensor [sum_tokens]   (to device)\n",
    "      offsets:      LongTensor [B]            (to device)\n",
    "      keyword_ids:  LongTensor [B]            (to device)\n",
    "    \"\"\"\n",
    "    ids, text_tensors, offsets, kw_ids = [], [], [0], []\n",
    "\n",
    "    for _id, _text, _kw in batch:\n",
    "        ids.append(_id)\n",
    "\n",
    "        # tokenize -> ids (OOV handled by vocab default_index)\n",
    "        tokens = tokenizer(_text)\n",
    "        token_ids = [text_vocab[t] for t in tokens]\n",
    "        if not token_ids:                                   # handle empty text\n",
    "            token_ids = [text_vocab[\"<unk>\"]]\n",
    "        ids_t = torch.tensor(token_ids, dtype=torch.int64)\n",
    "        text_tensors.append(ids_t)\n",
    "        offsets.append(ids_t.size(0))\n",
    "\n",
    "        kw_ids.append(keyword_vocab[_kw.strip().lower()])\n",
    "\n",
    "    # build tensors\n",
    "    text_ids = torch.cat(text_tensors) if text_tensors else torch.tensor([], dtype=torch.int64)\n",
    "    offsets  = torch.tensor(offsets[:-1], dtype=torch.int64).cumsum(0)\n",
    "    kw_ids   = torch.tensor(kw_ids, dtype=torch.int64)\n",
    "    ids      = torch.tensor(ids, dtype=torch.int64)  # keep on CPU later\n",
    "\n",
    "    return ids, text_ids.to(device), offsets.to(device), kw_ids.to(device)"
   ]
  },
  {
   "cell_type": "markdown",
   "id": "76464ccb-a0ef-4a75-8a01-6a86c7da7955",
   "metadata": {},
   "source": [
    "Each DataLoader splits a specific dataset (training, validation, test) into batches. Each batch will contain 64 samples. We shuffle the order randomly and use our own custom collate function to turn the samples within a batch into properly formatted tensors. "
   ]
  },
  {
   "cell_type": "code",
   "execution_count": 132,
   "id": "081bc253-a125-4a08-b38f-7928d39bb5e3",
   "metadata": {},
   "outputs": [
    {
     "name": "stdout",
     "output_type": "stream",
     "text": [
      "Labels: tensor([1, 0, 1, 0, 1, 0, 0, 0, 0, 0, 1, 1, 1, 0, 0, 0, 1, 0, 1, 0, 1, 1, 1, 0,\n",
      "        0, 0, 1, 0, 0, 1, 1, 0, 1, 1, 0, 1, 1, 0, 0, 1, 0, 1, 0, 0, 1, 0, 1, 0,\n",
      "        1, 0, 1, 0, 1, 0, 1, 0, 0, 0, 0, 0, 0, 1, 0, 0])\n",
      "Text Vector: tensor([  166, 11555,   371,  ..., 21429,    85,     0])\n",
      "Offsets: tensor([   0,   10,   35,   55,   78,   97,  102,  126,  149,  169,  191,  216,\n",
      "         226,  251,  280,  294,  316,  331,  345,  367,  375,  388,  411,  420,\n",
      "         435,  456,  473,  498,  519,  531,  548,  563,  598,  616,  633,  651,\n",
      "         675,  703,  729,  732,  754,  781,  810,  836,  848,  864,  885,  908,\n",
      "         919,  941,  948,  969,  991, 1013, 1035, 1059, 1079, 1106, 1129, 1149,\n",
      "        1171, 1194, 1208, 1216])\n",
      "Keywords: tensor([ 94,  96, 187, 187, 193, 141, 139,  59, 172, 212,  48, 100,  24, 183,\n",
      "         92, 147, 175, 127,  56, 141, 174, 112,  81,  11, 129, 181,  24,  69,\n",
      "         43, 201, 100,  47, 217,  72,  41, 110, 109, 169,  39,  48,  87, 206,\n",
      "        113,  72, 133,  37,  36,  41,   0, 166, 149, 149, 174, 205, 155, 178,\n",
      "        179,  18,  39, 145, 151, 150, 193, 136])\n"
     ]
    }
   ],
   "source": [
    "BATCH_SIZE = 64\n",
    "\n",
    "train_dataloader = DataLoader(\n",
    "    split_train_, batch_size=BATCH_SIZE, shuffle=True, collate_fn=collate_batch\n",
    ")\n",
    "valid_dataloader = DataLoader(\n",
    "    split_valid_, batch_size=BATCH_SIZE, shuffle=True, collate_fn=collate_batch\n",
    ")\n",
    "test_dataloader = DataLoader(\n",
    "    test_dataset, batch_size=BATCH_SIZE, shuffle=False, collate_fn=collate_batch_test\n",
    ")\n",
    "\n",
    "# iter(...) creates a iterator over the validation dataset, next(...) pulls the first batch, \n",
    "# calling collate_fn, and returning whatever the collate_fn returns for the first batch\n",
    "labels, text, offsets, keywords=next(iter(valid_dataloader))\n",
    "# this just prints it for review\n",
    "print(f\"Labels: {labels}\")\n",
    "print(f\"Text Vector: {text}\")\n",
    "print(f\"Offsets: {offsets}\")\n",
    "print(f\"Keywords: {keywords}\")"
   ]
  },
  {
   "cell_type": "markdown",
   "id": "fa6d87d2-f687-49b0-8e62-6815c45ae1a9",
   "metadata": {},
   "source": [
    "# Build the Neural network\n",
    "\n",
    "## TextClassificationModel\n",
    "\n",
    "Now we built a simple text classifier that turn each input text and keyword into a fixed-size vector using an **EmbeddingBag** and feeds that vector to a signle lineary layer to producde class logits (once score per class). \n",
    "\n",
    "**What is an embedding?**\n",
    "\n",
    "Models can't work with words like \"fire\" or \"bbq\" directly, they need numbers. \n",
    "\n",
    "The naive way is to use one-hot encoding. The one-hot vector has the length of vocab size and all zeros except a single 1 at the token's index. The one-hot vector say nothing about the meaning of a word. \n",
    "\n",
    "E.g. one-hot encoding, `\"cat\" = [0,0,0,1,0,0]`\n",
    "\n",
    "An embedding gives each token a **dense vector** that the model learns during training so that similar words get similar vectors.\n",
    "\n",
    "E.g. dense vector, `\"cat\" = [0.72,0.15,0.10]` and `\"dog\" = [0.7,0.18,0.12]`\n",
    "\n",
    "An EmbeddingBag is a matrix with the shape `[vocab_size,embed_dim]`, where row i represents the dense vector for the token with id i. \n",
    "\n",
    "`nn.Linear(...)` creates a fully-connected layer (`self.fc`) y = x @ Wᵀ (weights) + b (bias).\n",
    "\n",
    "**What does the `forward` function?**\n",
    "\n",
    "The embedding table is a matrix of shape [vocab_size, embed_dim]. Each row is a 1D vector (length = embed_dim) = the embedding for token id i.\n",
    "\n",
    "`text`: 1D tensor of all token ids concatenated from the batch.\n",
    "\n",
    "`offsets`: Tells where each samples starts inside `text`. \n",
    "\n",
    "`self.embedding(text,offsets)`: For each sample (defined by the offsets) it looks up its token vectors. This would be a 2D tensor (matrix) in the shape of [sample_length,ebed_dim]. It now pools them into one dense vector, representing the entire sentence. It does this by reducing the dimension, per default by calculating the mean value. Thus, per sample you get 1D tensor with the length embed_dim. Per batch these are stacked into a 2D tensor with the shape [B_size,ebed_dim].\n",
    "\n",
    "`self.fc(embedded)`: Computes the fully-connected layer to the ebeddings. \n",
    "\n",
    "**What is a logit?**\n",
    "\n",
    "`model(text,offsets)` returns the **logits** (vector), unnormalized scores/outputs for each sample in the batch. To turn that into a prediction we have to apply a sigmoid/softmax function."
   ]
  },
  {
   "cell_type": "code",
   "execution_count": 133,
   "id": "9f9de4bf-87b1-479e-aba4-2650ca5699f9",
   "metadata": {},
   "outputs": [
    {
     "name": "stdout",
     "output_type": "stream",
     "text": [
      "Predictions: tensor([0, 1, 1, 1, 1, 1, 1, 1, 0, 1, 0, 1, 0, 0, 0, 1, 1, 1, 1, 1, 1, 1, 1, 1,\n",
      "        1, 1, 0, 1, 1, 1, 1, 1, 1, 1, 0, 0, 1, 0, 1, 1, 1, 1, 1, 1, 1, 1, 1, 0,\n",
      "        0, 0, 1, 1, 0, 1, 1, 1, 1, 1, 1, 0, 1, 1, 1, 0])\n"
     ]
    }
   ],
   "source": [
    "class TextClassificationModel(nn.Module):\n",
    "    def __init__(self, vocab_size, embed_dim, num_class):\n",
    "        super(TextClassificationModel, self).__init__()\n",
    "        # self.embedding is a matrix with the shape [vocab_size, embed_dim]\n",
    "        # row i is the dense vector for the token with id i\n",
    "        self.embedding = nn.EmbeddingBag(vocab_size, embed_dim, sparse=False)\n",
    "        self.fc = nn.Linear(embed_dim, num_class)\n",
    "        self.init_weights()\n",
    "\n",
    "    def init_weights(self):\n",
    "        initrange = 0.5\n",
    "        self.embedding.weight.data.uniform_(-initrange, initrange)\n",
    "        self.fc.weight.data.uniform_(-initrange, initrange)\n",
    "        self.fc.bias.data.zero_()\n",
    "\n",
    "    def forward(self, text, offsets):\n",
    "        embedded = self.embedding(text, offsets)\n",
    "        return self.fc(embedded)\n",
    "\n",
    "embed_dim = 128 # hyperparamter we choose to be 128\n",
    "vocab_size = len(text_vocab)\n",
    "num_class = 2 # 0 or 1 \n",
    "model = TextClassificationModel(vocab_size, embed_dim, num_class).to(device)\n",
    "\n",
    "# remember we pulled the first batch, labels, text, offsets, keywords=next(iter(valid_dataloader))\n",
    "logits = model(text,offsets)\n",
    "predictions = logits.argmax(dim=1)\n",
    "print(f\"Predictions: {predictions}\")"
   ]
  },
  {
   "cell_type": "markdown",
   "id": "c4963749-37f0-4e78-807a-708a154d3007",
   "metadata": {},
   "source": [
    "## Text and Keyword Classification Model\n",
    "\n",
    "We will concatenate (`torch.cat(...)`) the text and keyword vector into one vector with the shape:\n",
    "\n",
    "`[B_size,text_embed_dim + kw_embed_dim]`"
   ]
  },
  {
   "cell_type": "code",
   "execution_count": 134,
   "id": "f7a581ff-f0e8-4de2-bb3d-ca18c899c1a5",
   "metadata": {},
   "outputs": [
    {
     "name": "stdout",
     "output_type": "stream",
     "text": [
      "Predictions: tensor([1, 0, 0, 1, 0, 0, 0, 0, 1, 0, 0, 0, 0, 1, 1, 1, 0, 0, 0, 0, 0, 1, 0, 0,\n",
      "        0, 0, 0, 0, 1, 0, 0, 0, 0, 0, 1, 1, 1, 1, 1, 0, 1, 1, 0, 0, 0, 0, 0, 1,\n",
      "        0, 1, 0, 0, 0, 1, 0, 0, 0, 0, 0, 1, 1, 1, 1, 0])\n"
     ]
    }
   ],
   "source": [
    "class TextKeywordClassificationModel(nn.Module):\n",
    "    def __init__(self, text_vocab_size, kw_vocab_size, text_embed_dim, kw_embed_dim, num_class):\n",
    "        super().__init__()\n",
    "        self.text_emb = nn.EmbeddingBag(text_vocab_size, text_embed_dim, mode=\"mean\", sparse=False)\n",
    "        self.kw_emb   = nn.Embedding(kw_vocab_size, kw_embed_dim)\n",
    "\n",
    "        # concatenation → input dim is sum of both dims\n",
    "        self.fc = nn.Linear(text_embed_dim + kw_embed_dim, num_class)\n",
    "\n",
    "        self.init_weights()\n",
    "\n",
    "    def init_weights(self):\n",
    "        initrange = 0.5\n",
    "        self.text_emb.weight.data.uniform_(-initrange, initrange)\n",
    "        self.kw_emb.weight.data.uniform_(-initrange, initrange)\n",
    "        self.fc.weight.data.uniform_(-initrange, initrange)\n",
    "        self.fc.bias.data.zero_()\n",
    "\n",
    "    def forward(self, text_ids, offsets, kw_ids):\n",
    "        # text: pooled embedding per sample → [B, embed_dim]\n",
    "        t = self.text_emb(text_ids, offsets)\n",
    "        # keyword: single lookup per sample → [B, kw_embed_dim]\n",
    "        k = self.kw_emb(kw_ids)\n",
    "        # concatenate along feature dimension → [B, embed_dim + kw_embed_dim]\n",
    "        h = torch.cat([t, k], dim=1)\n",
    "        # classify → logits [B, num_class]\n",
    "        return self.fc(h)\n",
    "\n",
    "embed_dim     = 128\n",
    "kw_embed_dim  = 32\n",
    "vocab_size    = len(text_vocab)\n",
    "kw_vocab_size = len(keyword_vocab)\n",
    "num_class     = 2\n",
    "\n",
    "model = TextKeywordClassificationModel(\n",
    "    vocab_size, kw_vocab_size, embed_dim, kw_embed_dim, num_class\n",
    ").to(device)\n",
    "\n",
    "logits = model(text,offsets,keywords)\n",
    "predictions = logits.argmax(dim=1)\n",
    "print(f\"Predictions: {predictions}\")"
   ]
  },
  {
   "cell_type": "markdown",
   "id": "776e59f2-6df5-47a6-99cf-0c0f8c04fc8e",
   "metadata": {},
   "source": [
    "### Evaluate the models perfomance\n",
    "\n",
    "`model.eval()`: switches the model into evaluation behavior, disableing dropout and using the running average of batch normalization. \n",
    "\n",
    "`with torch.no_grad()`: temporarily disables auto gradient descent (training) \n",
    "\n",
    "**What is Dropout?**\n",
    "\n",
    "During training a regularization layer randomly sets a fraction of activations to 0 to prevent neurons from co-adapting and reduce overfitting. \n",
    "\n",
    "During evaluation this must be turned off. \n",
    "\n",
    "**What is Batch Normalization?**\n",
    "\n",
    "A layer that uses the batch's mean and variance to update running averages and learns a scale based on this. \n",
    "\n",
    "During evaluation it must use the saved running averages, not the current batch stats. "
   ]
  },
  {
   "cell_type": "code",
   "execution_count": 135,
   "id": "d944c1b7-50eb-4692-b426-d4cb7de7746f",
   "metadata": {},
   "outputs": [
    {
     "data": {
      "text/plain": [
       "0.5065616797900262"
      ]
     },
     "execution_count": 135,
     "metadata": {},
     "output_type": "execute_result"
    }
   ],
   "source": [
    "def evaluate(dataloader):\n",
    "    model.eval()\n",
    "    total_correct = 0\n",
    "    total_count = 0\n",
    "\n",
    "    with torch.no_grad():\n",
    "        for labels, text, offsets, keywords in dataloader:\n",
    "            \n",
    "            logits = model(text,offsets,keywords)\n",
    "            predictions = logits.argmax(dim=1)\n",
    "            # predictions == labels is a elemnt-wise coparrision of two tensors, resulting\n",
    "            # in a boolean tensor([true,ture,false,...])\n",
    "            # .sum() counts how many corrects were in the batch (true = 1)\n",
    "            # .item() converts that scalar tensor to a plain python number\n",
    "            total_correct += (predictions == labels).sum().item()\n",
    "            total_count += predictions.size(0)\n",
    "            \n",
    "\n",
    "    return total_correct / total_count\n",
    "\n",
    "evaluate(valid_dataloader)"
   ]
  },
  {
   "cell_type": "markdown",
   "id": "598e8d4a-4660-4a6e-b448-a4e28dc27c2a",
   "metadata": {},
   "source": [
    "### Train the model\n",
    "\n",
    "- Set the learning rate (LR) to 0.1\n",
    "- The CrossEntropyLoss criterion is used to calculate the loss\n",
    "- The chosen optimizer is Stochastic Gradient Descent (SGD)\n",
    "- Additionally, a learning rate scheduler is defined using StepLR."
   ]
  },
  {
   "cell_type": "code",
   "execution_count": 136,
   "id": "f9adc3e5-8287-4d93-b1e9-3fcdb61c610e",
   "metadata": {},
   "outputs": [],
   "source": [
    "LR=0.1\n",
    "loss_fn = torch.nn.CrossEntropyLoss()\n",
    "optimizer = torch.optim.SGD(model.parameters(), lr=LR)\n",
    "scheduler = torch.optim.lr_scheduler.StepLR(optimizer, 1.0, gamma=0.1)"
   ]
  },
  {
   "cell_type": "markdown",
   "id": "fa2f2ff2-4dc8-4e61-ae73-952891ad4503",
   "metadata": {},
   "source": [
    "**What is an epoch?**\n",
    "\n",
    "An **epoch** is one full pass over the entire training data. If you have 640 training samples and a batch size of 64, one epoch runs 100 batches. \n",
    "\n",
    "You can draw a progress bar with `tqdm(...)`."
   ]
  },
  {
   "cell_type": "code",
   "execution_count": 143,
   "id": "5b013a10-e796-4ca4-9ffa-add0693ba7f5",
   "metadata": {},
   "outputs": [
    {
     "data": {
      "application/vnd.jupyter.widget-view+json": {
       "model_id": "a51297743f7143d2a1331ee999659fbb",
       "version_major": 2,
       "version_minor": 0
      },
      "text/plain": [
       "  0%|          | 0/1000 [00:00<?, ?it/s]"
      ]
     },
     "metadata": {},
     "output_type": "display_data"
    }
   ],
   "source": [
    "EPOCHS = 1000\n",
    "cum_loss_list=[] # stores sum of batch losses per epoch\n",
    "acc_epoch=[] # stores the validation accuracy per epoch\n",
    "acc_old=0 # remebers the best validation accurancy so for\n",
    "\n",
    "for epoch in tqdm(range(1, EPOCHS + 1)): \n",
    "    model.train() # Puts model into training mode (dropout, batchnorm)\n",
    "    cum_loss=0 # clear cummulated loss\n",
    "    for labels, text, offsets, keywords in train_dataloader: \n",
    "        optimizer.zero_grad() # clear gradient buffer from previous \n",
    "        logits = model(text, offsets, keywords)\n",
    "        loss = loss_fn(logits, label)\n",
    "        loss.backward() # Backpropagate\n",
    "        torch.nn.utils.clip_grad_norm_(model.parameters(), 0.5) # Stabilze when gradients explode\n",
    "        optimizer.step() # Update model parameters\n",
    "        cum_loss+=loss.item()\n",
    "\n",
    "    cum_loss_list.append(cum_loss)\n",
    "    accu_val = evaluate(valid_dataloader)\n",
    "    acc_epoch.append(accu_val)\n",
    "\n",
    "    if accu_val > acc_old:\n",
    "      acc_old= accu_val\n",
    "      torch.save(model.state_dict(), 'my_model.pth')"
   ]
  },
  {
   "cell_type": "code",
   "execution_count": 141,
   "id": "36893c9a-72f1-4c36-8d10-d8e63bb9707c",
   "metadata": {},
   "outputs": [
    {
     "data": {
      "image/png": "[encoded data removed]",
      "text/plain": [
       "<Figure size 700x400 with 2 Axes>"
      ]
     },
     "metadata": {},
     "output_type": "display_data"
    }
   ],
   "source": [
    "def plot(cum_loss_list, acc_epoch):\n",
    "    \"\"\"\n",
    "    Plot total (cumulative) loss and validation accuracy per epoch\n",
    "    on two y-axes, epochs on the x-axis starting at 0.\n",
    "    \"\"\"\n",
    "    # handle unequal lengths safely\n",
    "    n = min(len(cum_loss_list), len(acc_epoch))\n",
    "    if n == 0:\n",
    "        raise ValueError(\"Nothing to plot: empty lists.\")\n",
    "    loss = np.asarray(cum_loss_list[:n], dtype=float)\n",
    "    acc  = np.asarray(acc_epoch[:n], dtype=float)\n",
    "    epochs = np.arange(n)  # 0..n-1\n",
    "\n",
    "    fig, ax1 = plt.subplots(figsize=(7, 4))\n",
    "\n",
    "    # left y-axis: total loss (red)\n",
    "    l1 = ax1.plot(epochs, loss, marker='o', linewidth=2, label='total loss', color='tab:red')\n",
    "    ax1.set_xlabel('epoch', color='tab:red')\n",
    "    ax1.set_ylabel('total loss', color='tab:red')\n",
    "    ax1.tick_params(axis='x', colors='tab:red')\n",
    "    ax1.tick_params(axis='y', labelcolor='tab:red')\n",
    "    ax1.grid(True, which='both', axis='both', alpha=0.25)\n",
    "\n",
    "    # right y-axis: accuracy (blue)\n",
    "    ax2 = ax1.twinx()\n",
    "    l2 = ax2.plot(epochs, acc, marker='o', linewidth=2, label='accuracy', color='tab:blue')\n",
    "    ax2.set_ylabel('accuracy', color='tab:blue')\n",
    "    ax2.tick_params(axis='y', labelcolor='tab:blue')\n",
    "    # If your accuracy is in [0,1], uncomment to clamp nicely:\n",
    "    # ax2.set_ylim(0.0, 1.0)\n",
    "\n",
    "    # One legend for both lines\n",
    "    lines = l1 + l2\n",
    "    labels = [ln.get_label() for ln in lines]\n",
    "    ax1.legend(lines, labels, loc='best')\n",
    "\n",
    "    fig.tight_layout()\n",
    "    plt.show()\n",
    "\n",
    "plot(cum_loss_list, acc_epoch)"
   ]
  },
  {
   "cell_type": "markdown",
   "id": "abcad678-2dd2-40ac-a1a3-9f55a3f7a6d4",
   "metadata": {},
   "source": [
    "### Create submission.csv for kaggle"
   ]
  },
  {
   "cell_type": "code",
   "execution_count": 139,
   "id": "7f2710ce-9a04-4412-9de3-1cf5aa11c7dc",
   "metadata": {},
   "outputs": [
    {
     "name": "stdout",
     "output_type": "stream",
     "text": [
      "   id  target\n",
      "0   0       0\n",
      "1   2       0\n",
      "2   3       0\n",
      "3   9       1\n",
      "4  11       1\n",
      "Saved submission.csv\n"
     ]
    }
   ],
   "source": [
    "# Load the pre-trained model \n",
    "model.load_state_dict(torch.load('my_model.pth'))\n",
    "model.eval()\n",
    "all_ids, all_preds = [], []\n",
    "with torch.no_grad():\n",
    "    for ids, text, offsets, keywords in test_dataloader:\n",
    "        logits = model(text,offsets,keywords)\n",
    "        preds = logits.argmax(dim=1).cpu().tolist()\n",
    "        all_preds.extend(preds)\n",
    "        all_ids.extend(ids.cpu().tolist())\n",
    "\n",
    "# ensure sorted by id like Kaggle expects\n",
    "submission = pd.DataFrame({\"id\": all_ids, \"target\": all_preds}).sort_values(\"id\")\n",
    "submission.to_csv(\"submission.csv\", index=False)\n",
    "print(submission.head())\n",
    "print(\"Saved submission.csv\")"
   ]
  },
  {
   "cell_type": "code",
   "execution_count": null,
   "id": "088e6cc5-f300-4f44-92ff-830ff4256ac8",
   "metadata": {},
   "outputs": [],
   "source": []
  }
 ],
 "metadata": {
  "kernelspec": {
   "display_name": "Python 3 (ipykernel)",
   "language": "python",
   "name": "python3"
  },
  "language_info": {
   "codemirror_mode": {
    "name": "ipython",
    "version": 3
   },
   "file_extension": ".py",
   "mimetype": "text/x-python",
   "name": "python",
   "nbconvert_exporter": "python",
   "pygments_lexer": "ipython3",
   "version": "3.12.0"
  }
 },
 "nbformat": 4,
 "nbformat_minor": 5
}
