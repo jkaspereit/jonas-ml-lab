{
 "cells": [
  {
   "cell_type": "markdown",
   "id": "5cfb8e82-2a77-4559-a6c2-172308f17b01",
   "metadata": {},
   "source": [
    "## Cheatsheet: `yield` vs `return` (Python)\n",
    "\n",
    "* **`yield` turns a function into a *generator*** → calling it returns an **iterator** you can loop over.\n",
    "* Each `yield value` produces **one item at a time**; the function *pauses* and *resumes* on the next iteration.\n",
    "* **`return value`** exits the function **once** and gives back a **single value**.\n",
    "\n",
    "### Why use `yield`?\n",
    "\n",
    "* **Streams data lazily** (memory-efficient) instead of building big lists.\n",
    "* **Perfect for pipelines** that expect an *iterable* (e.g., `build_vocab_from_iterator`).\n",
    "\n",
    "### Mini Example"
   ]
  },
  {
   "cell_type": "code",
   "execution_count": 8,
   "id": "ca5ab9a7-054a-4883-a7b1-94443200f1ad",
   "metadata": {},
   "outputs": [
    {
     "name": "stdout",
     "output_type": "stream",
     "text": [
      "[0, 1, 2]\n",
      "0\n",
      "1\n",
      "2\n",
      "0\n"
     ]
    }
   ],
   "source": [
    "def numbers_yield(n):\n",
    "    for i in range(n):\n",
    "        yield i  # 0, 1, 2, ... lazily\n",
    "\n",
    "def numbers_return(n):\n",
    "    for i in range(n):\n",
    "        return i  # returns 0 once; loop never continues\n",
    "\n",
    "# 1) Consume all values\n",
    "g = numbers_yield(3)\n",
    "print(list(g))          # [0, 1, 2]\n",
    "\n",
    "# 2) Start over with a new generator if you want next(...)\n",
    "g = numbers_yield(3)\n",
    "print(next(g))          # 0\n",
    "print(next(g))          # 1\n",
    "print(next(g))          # 2\n",
    "# next(g) now would raise StopIteration\n",
    "\n",
    "# numbers_return just returns a single value immediately:\n",
    "print(numbers_return(3))  # 0"
   ]
  },
  {
   "cell_type": "code",
   "execution_count": null,
   "id": "83c94719-5821-4a6e-89b5-7be9ad5d5f64",
   "metadata": {},
   "outputs": [],
   "source": []
  }
 ],
 "metadata": {
  "kernelspec": {
   "display_name": "Python 3 (ipykernel)",
   "language": "python",
   "name": "python3"
  },
  "language_info": {
   "codemirror_mode": {
    "name": "ipython",
    "version": 3
   },
   "file_extension": ".py",
   "mimetype": "text/x-python",
   "name": "python",
   "nbconvert_exporter": "python",
   "pygments_lexer": "ipython3",
   "version": "3.12.0"
  }
 },
 "nbformat": 4,
 "nbformat_minor": 5
}
