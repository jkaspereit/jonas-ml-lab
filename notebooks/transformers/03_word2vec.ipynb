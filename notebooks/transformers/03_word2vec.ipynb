{
 "cells": [
  {
   "cell_type": "markdown",
   "id": "851618ee-9b23-4523-af66-2fd496e0c64d",
   "metadata": {},
   "source": [
    "# Word2Vec (PyTorch Guide)\n",
    "\n",
    "Word2Vec is a set of techniques for representing words as numerical vectors.  \n",
    "These vectors are positioned in a high-dimensional space so that **similar words are close together**.  \n",
    "These vectors are called **word embeddings**.\n",
    "\n",
    "For example:  \n",
    "- Words like *\"king\"* and *\"queen\"* will have vectors near each other.  \n",
    "- A word like *\"book\"* will be positioned farther away.  \n",
    "- Even simple vector arithmetic works, e.g., **king − man + woman ≈ queen**.  \n",
    "\n",
    "This representation allows machine learning models to capture **semantic relationships** between words."
   ]
  },
  {
   "cell_type": "markdown",
   "id": "f9dec867-eec1-4c4f-9b71-913a5391c2c5",
   "metadata": {},
   "source": [
    "## Setup\n",
    "\n",
    "### Step 1: Familiarize with training data.\n",
    "\n",
    "In this notebook, we use 100 sentences i scraped from redit about ML. "
   ]
  },
  {
   "cell_type": "code",
   "execution_count": 1,
   "id": "3227b6ac-c82d-4eca-bb9d-c7e36e53c05c",
   "metadata": {},
   "outputs": [
    {
     "name": "stdout",
     "output_type": "stream",
     "text": [
      "                                            sentence\n",
      "0               We Make computer understand patterns\n",
      "1               Learning machines reshape our future\n",
      "2  Recurrent neural networks handle sequential da...\n",
      "3  Regularization techniques help prevent overfit...\n",
      "4  Hyperparameter tuning significantly affects mo...\n"
     ]
    }
   ],
   "source": [
    "import pandas as pd\n",
    "\n",
    "df = pd.read_csv(\"../../datasets/ML_Sentences.csv\")\n",
    "\n",
    "print(df.head())"
   ]
  },
  {
   "cell_type": "markdown",
   "id": "567db2ae-59ca-4477-8305-6848e0e78730",
   "metadata": {},
   "source": [
    "### Step 2: Build the vocabulary. "
   ]
  },
  {
   "cell_type": "code",
   "execution_count": 12,
   "id": "78082242-9710-427c-bcb2-62db010ba51c",
   "metadata": {},
   "outputs": [
    {
     "name": "stdout",
     "output_type": "stream",
     "text": [
      "['learning', 'machines', 'reshape', 'our', 'future']\n",
      "[9, 10, 22, 15, 5]\n"
     ]
    }
   ],
   "source": [
    "# load a simple tokenizer\n",
    "from torchtext.data.utils import get_tokenizer\n",
    "tokenizer = get_tokenizer(\"basic_english\")\n",
    "\n",
    "# the data must be an iterable of strings\n",
    "def tokenize(sentences):\n",
    "    for s in sentences:\n",
    "        yield tokenizer(s)\n",
    "sentences = df[\"sentence\"].astype(str).tolist()\n",
    "tokenized_data = tokenize(sentences)\n",
    "\n",
    "# build vocabulary \n",
    "from torchtext.vocab import build_vocab_from_iterator\n",
    "vocab = build_vocab_from_iterator(tokenized_data, specials=['unk'])\n",
    "vocab.set_default_index(vocab[\"unk\"])\n",
    "\n",
    "# demonstration\n",
    "sample = \"Learning machines reshape our future\" \n",
    "tokens = tokenizer(sample)\n",
    "print(tokens)\n",
    "\n",
    "# you can write a function to translate tokens via vocab into numbers\n",
    "text_pipeline = lambda tokens:[vocab[token] for token in tokens]\n",
    "print(text_pipeline(tokens))"
   ]
  },
  {
   "cell_type": "markdown",
   "id": "210d675a-ccf6-4341-a1c3-f169c1ab8471",
   "metadata": {},
   "source": [
    "## Continuous Bag of Words (CBOW)\n",
    "\n",
    "The **Continuous Bag of Words (CBOW)** model predicts a **target word** from a fixed-size **context window** of surrounding words. The context consists of the words that appear before and after the target.\n",
    "\n",
    "**Example:**  \n",
    "Sentence:  \n",
    "`I wish I were an ML expert`  \n",
    "\n",
    "With a **context window size of 2**, the context for predicting `I` is:  `[\"I\", \"wish\", \"were\", \"an\"]`.\n",
    "\n",
    "**Training Data:**  \n",
    "The training data is structured as pairs **(x, y)**, where:  \n",
    "- **x** is the input context: $(w_{t-2}, w_{t-1}, w_{t+1}, w_{t+2})$\n",
    "- **y** is the target word to predict: $w_t$\n",
    "\n",
    "The model learns to estimate:  \n",
    "$$\n",
    "P(w_t \\mid w_{t-2}, w_{t-1}, w_{t+1}, w_{t+2})\n",
    "$$"
   ]
  },
  {
   "cell_type": "code",
   "execution_count": 3,
   "id": "796158d3-0cff-472b-b73a-3de3b2053499",
   "metadata": {},
   "outputs": [
    {
     "name": "stdout",
     "output_type": "stream",
     "text": [
      "[(('we', 'make', 'understand', 'patterns'), 'computer'), (('learning', 'machines', 'our', 'future'), 'reshape'), (('recurrent', 'neural', 'handle', 'sequential'), 'networks'), (('neural', 'networks', 'sequential', 'data'), 'handle'), (('networks', 'handle', 'data', 'such'), 'sequential')]\n"
     ]
    }
   ],
   "source": [
    "CONTEXT_WINDOW = 2\n",
    "\n",
    "def setup_training_data(tokenized_sentences):\n",
    "    training_data = []\n",
    "    for s in tokenized_sentences:\n",
    "        for i in range(CONTEXT_WINDOW, len(s) - CONTEXT_WINDOW):\n",
    "            wtm2, wtm1 = s[i-2], s[i-1]\n",
    "            wta1, wta2 = s[i+1], s[i+2]\n",
    "            y = s[i]\n",
    "            training_data.append(((wtm2, wtm1, wta1, wta2), y))\n",
    "    return training_data\n",
    "\n",
    "# Demonstration\n",
    "training_data = setup_training_data(tokenize(sentences))\n",
    "print(training_data[:5])"
   ]
  },
  {
   "cell_type": "markdown",
   "id": "a7c35a78-7b80-4bc7-9d84-cb248f2b3e85",
   "metadata": {},
   "source": [
    "The `collate_batch` function prepares training batches by converting each `(context, target)` pair into numerical representations using the vocabulary.  \n",
    "The function should return **two tensors**:  \n",
    "- A **context tensor** of shape `(batch_size, context_window * 2)`  \n",
    "- A **target tensor** of shape `(batch_size)`  "
   ]
  },
  {
   "cell_type": "code",
   "execution_count": 23,
   "id": "98fb10a7-6161-4bb5-8750-1734834ae390",
   "metadata": {},
   "outputs": [
    {
     "name": "stdout",
     "output_type": "stream",
     "text": [
      "tensor([[30, 11, 29, 17],\n",
      "        [ 9, 10, 15,  5],\n",
      "        [20, 14,  6, 23],\n",
      "        [14, 13, 23,  4],\n",
      "        [13,  6,  4, 25]]) tensor([ 3, 22, 13,  6, 23])\n",
      "[['we', 'make', 'understand', 'patterns'], ['learning', 'machines', 'our', 'future'], ['recurrent', 'neural', 'handle', 'sequential'], ['neural', 'networks', 'sequential', 'data'], ['networks', 'handle', 'data', 'such']]\n"
     ]
    }
   ],
   "source": [
    "import torch\n",
    "\n",
    "# Device for training: use GPU (CUDA) if available, otherwise fallback to CPU\n",
    "device = torch.device(\"cuda\" if torch.cuda.is_available() else \"cpu\")\n",
    "\n",
    "def collate_batch(batch):\n",
    "    context_list, target_list = [], []\n",
    "    for context, target in batch:\n",
    "        context_list.append(text_pipeline(list(context)))\n",
    "        target_list.append(vocab[target])\n",
    "\n",
    "    context_tensor = torch.tensor(context_list,dtype=torch.int64).to(device)\n",
    "    target_tensor = torch.tensor(target_list, dtype=torch.int64).to(device)\n",
    "    \n",
    "    return context_tensor, target_tensor\n",
    "\n",
    "# Demonstration\n",
    "context_tensor, target_tensor = collate_batch(training_data[:5])\n",
    "print(context_tensor, target_tensor)\n",
    "\n",
    "def decode_context(tensor):\n",
    "    return [[vocab.lookup_token(idx) for idx in context] for context in tensor]\n",
    "\n",
    "print(decode_context(context_tensor))"
   ]
  },
  {
   "cell_type": "markdown",
   "id": "4e333869-483f-4229-a195-a86a6d487502",
   "metadata": {},
   "source": [
    "The `DataLoader` takes care of batching. Instead of feeding all training samples at once, it groups them into mini-batches of size `BATCH_SIZE = 32`.  \n",
    "\n",
    "We batch for three key reasons:  \n",
    "\n",
    "1. **Efficiency**: Neural networks run much faster when samples are processed in parallel. Batches make this possible by enabling efficient matrix operations.  \n",
    "2. **Stability**: Updating weights after every single sample makes gradients noisy and unstable. Batches average gradients across samples, smoothing training.  \n",
    "3. **Memory constraints**: You can’t usually train on the whole dataset at once — many datasets don’t fit in memory. Mini-batches let us train piece by piece.  "
   ]
  },
  {
   "cell_type": "code",
   "execution_count": 24,
   "id": "3cfb98e4-ff03-417e-af50-36f20270a6d9",
   "metadata": {},
   "outputs": [
    {
     "name": "stdout",
     "output_type": "stream",
     "text": [
      "<torch.utils.data.dataloader.DataLoader object at 0x1347c48f0>\n"
     ]
    }
   ],
   "source": [
    "from torch.utils.data import DataLoader\n",
    "\n",
    "BATCH_SIZE = 12\n",
    "\n",
    "cbow_dataloader = DataLoader(training_data, batch_size=BATCH_SIZE, shuffle=True, collate_fn=collate_batch)\n",
    "\n",
    "print(cbow_dataloader)"
   ]
  },
  {
   "cell_type": "markdown",
   "id": "f2b85a3e-894c-462a-a267-874a6e35e19e",
   "metadata": {},
   "source": [
    "#### Building a CBOW model in PyTorch (window size = 2)\n",
    "\n",
    "We’ll implement **CBOW** (Continuous Bag of Words) using PyTorch’s `nn` modules.\n",
    "\n",
    "**Step 1: Embedding Layer**\n",
    "\n",
    "With a context window of **2**, each training example has **4 context tokens**. However, instead of feeding **four one-hot vectors of size `vocab_size`** (which would be huge), we use an **embedding layer**. Each word (e.g., \"machine\" → 4 → [0,0,0,1,0,...,0]) is mapped to a dense embedding vector of the size `EMBED_DIM=24` (e.g., [0,0,0,1,0,...,0]) → [0.12,0.4,...,0.31]). We achieve this with `nn.Embedding(vocab_size, embed_dim)`. Internally, PyTorch creates a **matrix of learnable weights** that functions as a trainable dictionary:  \n",
    "- Each row corresponds to one word in the vocabulary.  \n",
    "- Looking up a token ID retrieves its embedding vector.  \n",
    "- During training, backpropagation updates the rows for the words that appear in the batch, so words used in similar contexts will gradually learn similar vectors.  \n",
    "\n",
    "We first map each token ID to an embedding vector and then **aggregate** the 4 vectors into **one context representation** using the **mean**. That single vector goes into the next (linear) layer to predict the target word.\n",
    "\n",
    "**Step 2: Linear Layer**\n",
    "\n",
    "- Purpose: **reduce the dimensionality** of the embedding vector.  \n",
    "- Example: if `EMBED_DIM = 24`, we reduce to `EMBED_DIM//2 = 12`.  \n",
    "- The model must keep the *most useful* features, this bottleneck **counteracts overfitting**.\n",
    "\n",
    "**Step 3: Fully Connected (FC) Layer (Output Layer)**\n",
    "\n",
    "The output dimension must equal `vocab_size` so that we can assing a probability to every word in our voacbularly. We can assign this probabilities by applying the `softmax` function, that turns a vector of logits $z = [z_1, z_2, \\dots, z_n]$ into a **probability distribution** (all values are between 0 and 1).\n",
    "\n",
    "$$\n",
    "\\text{softmax}(z_i) = \\frac{e^{z_i}}{\\sum_{j=1}^{n} e^{z_j}}\n",
    "$$"
   ]
  },
  {
   "cell_type": "code",
   "execution_count": 25,
   "id": "4e830d2d-232b-4004-bcd6-2a0cd7554168",
   "metadata": {},
   "outputs": [
    {
     "name": "stdout",
     "output_type": "stream",
     "text": [
      "CBOW(\n",
      "  (embedding): Embedding(31, 10)\n",
      "  (linear): Linear(in_features=10, out_features=5, bias=True)\n",
      "  (fc): Linear(in_features=5, out_features=31, bias=True)\n",
      ")\n"
     ]
    }
   ],
   "source": [
    "import torch.nn as nn\n",
    "\n",
    "class CBOW(nn.Module):\n",
    "    # Initialize the CBOW model:\n",
    "    def __init__(self, vocab_size, embed_dim):\n",
    "        super(CBOW, self).__init__()\n",
    "        # Define the embedding layer using nn.EmbeddingBag (mode='mean' is default)\n",
    "        self.embedding = nn.Embedding(vocab_size, embed_dim)\n",
    "        # Define the linear layer\n",
    "        self.linear = nn.Linear(embed_dim, embed_dim//2)\n",
    "        # Define the fully connected layer (output layer)\n",
    "        self.fc = nn.Linear(embed_dim//2,vocab_size)\n",
    "\n",
    "        self.init_weights()\n",
    "\n",
    "    # Initialize the model's parameters with random weights\n",
    "    def init_weights(self):\n",
    "        # [-0.5,0.5] is a simple, safe and symmetric range that is often used\n",
    "        initrange = 5\n",
    "        self.embedding.weight.data.uniform_(-initrange, initrange)\n",
    "        self.linear.weight.data.uniform_(-initrange, initrange)\n",
    "        self.fc.weight.data.uniform_(-initrange, initrange)\n",
    "\n",
    "    def forward(self, context_ids):\n",
    "        # Pass the input through the embedding layer\n",
    "        out = self.embedding(context_ids)\n",
    "        out = out.mean(dim=1)\n",
    "        # Pass the result through the linear layer using the ReLU activation function\n",
    "        # Note: Without the ReLU activation function, the layers would just collapse into one. \n",
    "        out = torch.relu(self.linear(out))\n",
    "        # Pass the result through the fc layer \n",
    "        out = self.fc(out)\n",
    "        return out\n",
    "\n",
    "vocab_size = len(vocab)\n",
    "EMBED_DIM = 10\n",
    "cbow_model = CBOW(vocab_size, EMBED_DIM).to(device)\n",
    "print(cbow_model)"
   ]
  },
  {
   "cell_type": "markdown",
   "id": "cbfea0c3-6be5-4296-8683-7e9910fdc14b",
   "metadata": {},
   "source": [
    "### Train the model\n",
    "\n",
    "To train the model, we define a function `train_model` that handles the **training loop**. It takes as input:\n",
    "- `model`: PyTorch Model\n",
    "- `dataloader`: Batches the training data.\n",
    "- `num_epochs`: How many times to go through the entire dataset.\n",
    "We will collect the average loss of each epoch in `epoch_losses`, to plot how less decreases over time."
   ]
  },
  {
   "cell_type": "code",
   "execution_count": 26,
   "id": "2e04baae-9d21-46d0-85cc-0469f5f5bff2",
   "metadata": {},
   "outputs": [
    {
     "name": "stderr",
     "output_type": "stream",
     "text": [
      "100%|████████████████████████████████████████████████████████████████████████████████████| 10000/10000 [00:03<00:00, 2662.12it/s]\n"
     ]
    },
    {
     "data": {
      "text/plain": [
       "Text(0.5, 0, 'epochs')"
      ]
     },
     "execution_count": 26,
     "metadata": {},
     "output_type": "execute_result"
    },
    {
     "data": {
      "image/png": "[encoded data removed]",
      "text/plain": [
       "<Figure size 640x480 with 1 Axes>"
      ]
     },
     "metadata": {},
     "output_type": "display_data"
    }
   ],
   "source": [
    "from copy import deepcopy\n",
    "from tqdm import tqdm\n",
    "\n",
    "def train_model(model, dataloader, loss_fn = nn.CrossEntropyLoss(), num_epochs=10_000):\n",
    "    epoch_losses = []\n",
    "    best_loss = float('inf')\n",
    "    best_model = None\n",
    "\n",
    "    # SGD optimizes/updates the parameters of the model; lr (learning rate)\n",
    "    optimizer = torch.optim.SGD(model.parameters(), lr=0.001)\n",
    "    \n",
    "    # training loop; tqdm adds a nice progress bar in the console\n",
    "    for epoch in tqdm(range(num_epochs)):\n",
    "        running_loss = 0.0\n",
    "\n",
    "        for batch in dataloader:\n",
    "            context, target = batch\n",
    "            predicted = model(context)\n",
    "            # calculate the loss\n",
    "            loss = loss_fn(predicted, target)\n",
    "            running_loss += loss.item()\n",
    "            # performs backprogpagation → now each parameter p has p.grad filled\n",
    "            loss.backward()\n",
    "            # common regularization technique\n",
    "            # looks at all p.grad and scales down the gradients proportionally (typical values are 0.1,1,5,10)\n",
    "            torch.nn.utils.clip_grad_norm_(model.parameters(), 1.0)\n",
    "            # uses p.grad to update the parameters p\n",
    "            optimizer.step()\n",
    "\n",
    "            # save model state if this epoch is the best so far\n",
    "            if running_loss < best_loss:\n",
    "                best_loss = running_loss\n",
    "                best_model = deepcopy(model.state_dict())\n",
    "\n",
    "        epoch_losses.append(running_loss/len(dataloader))\n",
    "\n",
    "    # load best model\n",
    "    model.load_state_dict(best_model)\n",
    "    \n",
    "    return model, epoch_losses\n",
    "\n",
    "model, epoch_losses = train_model(cbow_model, cbow_dataloader)\n",
    "\n",
    "# plot loss values\n",
    "import matplotlib.pyplot as plt\n",
    "plt.plot(epoch_losses)\n",
    "plt.xlabel(\"epochs\")"
   ]
  },
  {
   "cell_type": "code",
   "execution_count": 29,
   "id": "3c77eaf4-ffd0-48b8-91df-91046f9dcff4",
   "metadata": {},
   "outputs": [
    {
     "name": "stdout",
     "output_type": "stream",
     "text": [
      "tensor([[ 9, 10, 15,  5]])\n",
      "tensor([[  9.4394, -38.6749,   8.1475, -20.5259, -21.8952, -11.2417,  19.8635,\n",
      "         -24.7578,  19.6236,   5.4301,   6.4518,  -6.7533,  18.5886, -10.1005,\n",
      "           0.7683, -17.1970,  21.3609,   2.0149,  11.8496, -12.6517,  22.0720,\n",
      "         -13.1533,  24.3072,   4.9149,   4.8908,  17.6028, -30.2242,  13.3671,\n",
      "          15.5109, -21.7701,  -8.2020]], grad_fn=<AddmmBackward0>)\n",
      "22\n",
      "reshape\n"
     ]
    }
   ],
   "source": [
    "tokens = tokenizer(\"learning machines our future\")\n",
    "context_ids = torch.tensor([text_pipeline(tokens)], dtype=torch.int64).to(device)\n",
    "print(context_ids)\n",
    "logits = model(context_ids)\n",
    "print(logits)\n",
    "predicted_id = logits.argmax(dim=1).item()\n",
    "print(predicted_id)\n",
    "predicted_word = vocab.lookup_token(predicted_id)\n",
    "print(predicted_word)"
   ]
  },
  {
   "cell_type": "code",
   "execution_count": null,
   "id": "a6d8c2b1-3993-4a8e-970c-4f710d1ff3be",
   "metadata": {},
   "outputs": [],
   "source": []
  }
 ],
 "metadata": {
  "kernelspec": {
   "display_name": "Python 3 (ipykernel)",
   "language": "python",
   "name": "python3"
  },
  "language_info": {
   "codemirror_mode": {
    "name": "ipython",
    "version": 3
   },
   "file_extension": ".py",
   "mimetype": "text/x-python",
   "name": "python",
   "nbconvert_exporter": "python",
   "pygments_lexer": "ipython3",
   "version": "3.12.0"
  }
 },
 "nbformat": 4,
 "nbformat_minor": 5
}
