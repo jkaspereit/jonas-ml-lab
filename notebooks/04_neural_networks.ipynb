{
 "cells": [
  {
   "cell_type": "markdown",
   "id": "c958dfe8-3c44-4f55-b1c6-b09ea36bb00a",
   "metadata": {},
   "source": [
    "### Tensor Flow"
   ]
  },
  {
   "cell_type": "code",
   "execution_count": 19,
   "id": "d514cf4d-d892-4dd6-a2dd-88259885f5ec",
   "metadata": {},
   "outputs": [],
   "source": [
    "import numpy as np\n",
    "import pandas as pd\n",
    "import matplotlib.pyplot as plt\n",
    "import tensorflow as tf\n",
    "from tensorflow.keras.models import Sequential\n",
    "from tensorflow.keras.layers import Dense"
   ]
  },
  {
   "cell_type": "markdown",
   "id": "1da3ecd8-a8d5-4f41-8f7e-012287bed89f",
   "metadata": {},
   "source": [
    "### 📊 Dataset Overview\n",
    "\n",
    "In this notebook, we’ll work with a small dataset about coffee roasting. Each row represents a coffee roasting session, with the following features:\n",
    "\n",
    "**Temperature**: The roasting temperature in degrees (likely Fahrenheit or Celsius).\n",
    "\n",
    "**Duration**: How long the roasting process lasted (in minutes).\n",
    "\n",
    "**Roast**: The outcome – labeled as 1.0 for a successful roast and 0.0 for an unsuccessful one."
   ]
  },
  {
   "cell_type": "code",
   "execution_count": 20,
   "id": "d0d09559-eef2-44a9-ae87-e9c9bfa1d1a5",
   "metadata": {},
   "outputs": [],
   "source": [
    "df = pd.read_csv(\"../datasets/Coffee_Data.csv\")\n",
    "\n",
    "# Show the data\n",
    "df.head()\n",
    "\n",
    "# Extract data \n",
    "X = df[['Temperature', 'Duration']].values  # or df.iloc[:, :2].values\n",
    "y = df['Roast'].values\n",
    "\n",
    "# Normalize X\n",
    "X_mean = np.mean(X, axis=0)\n",
    "X_std = np.std(X, axis=0)\n",
    "X_norm = (X - X_mean) / X_std"
   ]
  },
  {
   "cell_type": "markdown",
   "id": "64e7764d-4532-4748-afb0-52bd860b74d4",
   "metadata": {},
   "source": [
    "# Neural Network"
   ]
  },
  {
   "cell_type": "code",
   "execution_count": 26,
   "id": "043ff4e5-e2b9-4631-9b69-c1f24438951a",
   "metadata": {},
   "outputs": [
    {
     "name": "stdout",
     "output_type": "stream",
     "text": [
      "Training started...\n",
      "Training finished.\n",
      "\u001b[1m1/1\u001b[0m \u001b[32m━━━━━━━━━━━━━━━━━━━━\u001b[0m\u001b[37m\u001b[0m \u001b[1m0s\u001b[0m 21ms/step\n",
      "predictions =\n",
      " [[9.384953e-01]\n",
      " [6.598978e-07]]\n",
      "decisions = \n",
      "[[1]\n",
      " [0]]\n"
     ]
    }
   ],
   "source": [
    "# Define a Tensor Flow Model\n",
    "tf.random.set_seed(1234) # Set to ensure same model behavior\n",
    "model = Sequential([\n",
    "    tf.keras.Input(shape=(2,)), # input layer\n",
    "    Dense(3,activation='sigmoid', name='layer1'), # hidden layer \n",
    "    Dense(1,activation='sigmoid', name='layer2'), # output layer\n",
    "])\n",
    "\n",
    "# Train the Model\n",
    "model.compile(\n",
    "    loss = tf.keras.losses.BinaryCrossentropy(),\n",
    "    optimizer = tf.keras.optimizers.Adam(learning_rate=0.01),\n",
    ")\n",
    "\n",
    "print(\"Training started...\")\n",
    "model.fit(\n",
    "    X_norm,y,            \n",
    "    epochs=1_000,\n",
    "    verbose=0\n",
    ")\n",
    "print(f\"Training finished.\")\n",
    "\n",
    "W1, b1 = model.get_layer(\"layer1\").get_weights()\n",
    "W2, b2 = model.get_layer(\"layer2\").get_weights()\n",
    "\n",
    "# Test data (raw values)\n",
    "X_test = np.array([\n",
    "    [200, 11.9],  # likely positive example\n",
    "    [200, 17.0]   # likely negative example\n",
    "])\n",
    "\n",
    "# Use training statistics\n",
    "X_test_norm = (X_test - X_mean) / X_std  # X_mean and X_std from training\n",
    "\n",
    "# Predict\n",
    "predictions = model.predict(X_test_norm)\n",
    "print(\"predictions =\\n\", predictions)\n",
    "\n",
    "yhat = (predictions >= 0.5).astype(int)\n",
    "print(f\"decisions = \\n{yhat}\")"
   ]
  },
  {
   "cell_type": "markdown",
   "id": "a592f79a-7769-4249-a6e3-8d2aa34a6742",
   "metadata": {},
   "source": [
    "### Forward Propagation"
   ]
  },
  {
   "cell_type": "code",
   "execution_count": 33,
   "id": "d8e34da3-6a04-41e7-b165-b20fa407a04c",
   "metadata": {},
   "outputs": [
    {
     "name": "stdout",
     "output_type": "stream",
     "text": [
      "[9.38495227e-01 6.59897992e-07]\n",
      "decisions = [1 0]\n"
     ]
    }
   ],
   "source": [
    "def sigmoid(z):\n",
    "    return 1 / (1 + np.exp(-z))\n",
    "\n",
    "def dense(a_in, W, b):\n",
    "    \"\"\"\n",
    "    Computes dense layer\n",
    "    Args:\n",
    "      a_in (ndarray (n, )) : Data, 1 example \n",
    "      W    (ndarray (n,j)) : Weight matrix, n features per unit, j units\n",
    "      b    (ndarray (j, )) : bias vector, j units  \n",
    "    Returns\n",
    "      a_out (ndarray (j,))  : j units|\n",
    "    \"\"\"\n",
    "    units = W.shape[1]\n",
    "    a_out = np.zeros(units)\n",
    "    for j in range(units):\n",
    "        w = W[:,j]\n",
    "        z = np.dot(w, a_in) + b[j]\n",
    "        a_out[j] = sigmoid(z) \n",
    "    return a_out\n",
    "\n",
    "def sequential(x_in,W1,W2,b1,b2):\n",
    "    a1 = dense(x_in,W1,b1)\n",
    "    a2 = dense(a1,W2,b2)\n",
    "    return a2\n",
    "\n",
    "def predict(X, W1, W2, b1, b2):\n",
    "    m = X.shape[0]\n",
    "    p = np.zeros(m)\n",
    "    for i in range(m):\n",
    "        p[i] = sequential(X[i],W1,W2,b1,b2).item()\n",
    "    return p\n",
    "\n",
    "p = predict(X_test_norm,W1,W2,b1,b2)\n",
    "print(p)\n",
    "my_yhat = (p >= 0.5).astype(int)\n",
    "print(f\"decisions = {my_yhat}\")"
   ]
  },
  {
   "cell_type": "markdown",
   "id": "b3c252c6-adae-4b0a-8bcd-d3211b8f81cb",
   "metadata": {},
   "source": [
    "### Backward Propagation"
   ]
  },
  {
   "cell_type": "markdown",
   "id": "7f9056a1-8ca3-4f42-b40e-4452951c6fa7",
   "metadata": {},
   "source": [
    "# TODO\n",
    "\n",
    "Implement Forward Porpargation\n",
    "\n",
    "Implement Backward Propargation \n",
    "\n",
    "Implement a NN"
   ]
  },
  {
   "cell_type": "markdown",
   "id": "8db63ab4-6b97-496f-9a36-faa432ec946b",
   "metadata": {},
   "source": [
    "# TODO \n",
    "\n",
    "Test my NN on a training dataset\n",
    "\n",
    "Compare My Neural Network Implementation to Tensor Flows - show that i receive the same results to prove my Implementation works correctly and that i understood the concepts!"
   ]
  },
  {
   "cell_type": "markdown",
   "id": "380859b1-e9c7-4f6d-b122-363e126ce5e4",
   "metadata": {},
   "source": [
    "Here is some data: https://www.coursera.org/learn/advanced-learning-algorithms/ungradedLab/reSfw/coffee-roasting-in-tensorflow/lab?path=%2Fnotebooks%2FC2_W1_Lab02_CoffeeRoasting_TF.ipynb\n",
    "\n",
    "Don't forget to normalize the data before!"
   ]
  },
  {
   "cell_type": "code",
   "execution_count": null,
   "id": "a05026a2-ad08-415b-b679-56f80872a359",
   "metadata": {},
   "outputs": [],
   "source": []
  },
  {
   "cell_type": "code",
   "execution_count": null,
   "id": "497c0a83-2ef8-4489-8718-eb0c15b26ca3",
   "metadata": {},
   "outputs": [],
   "source": []
  }
 ],
 "metadata": {
  "kernelspec": {
   "display_name": "Python 3 (ipykernel)",
   "language": "python",
   "name": "python3"
  },
  "language_info": {
   "codemirror_mode": {
    "name": "ipython",
    "version": 3
   },
   "file_extension": ".py",
   "mimetype": "text/x-python",
   "name": "python",
   "nbconvert_exporter": "python",
   "pygments_lexer": "ipython3",
   "version": "3.12.0"
  }
 },
 "nbformat": 4,
 "nbformat_minor": 5
}
